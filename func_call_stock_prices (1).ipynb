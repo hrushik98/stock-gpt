{
  "nbformat": 4,
  "nbformat_minor": 0,
  "metadata": {
    "colab": {
      "provenance": []
    },
    "kernelspec": {
      "name": "python3",
      "display_name": "Python 3"
    },
    "language_info": {
      "name": "python"
    }
  },
  "cells": [
    {
      "cell_type": "code",
      "execution_count": null,
      "metadata": {
        "colab": {
          "base_uri": "https://localhost:8080/"
        },
        "id": "Pc0IWrLAQJUE",
        "outputId": "9f6859cc-4cd7-4202-d202-3f5ba5f73976"
      },
      "outputs": [
        {
          "output_type": "stream",
          "name": "stdout",
          "text": [
            "\u001b[?25l     \u001b[90m━━━━━━━━━━━━━━━━━━━━━━━━━━━━━━━━━━━━━━━━\u001b[0m \u001b[32m0.0/73.6 kB\u001b[0m \u001b[31m?\u001b[0m eta \u001b[36m-:--:--\u001b[0m\r\u001b[2K     \u001b[90m━━━━━━━━━━━━━━━━━━━━━━━━━━━━━━━━━━━━━━━━\u001b[0m \u001b[32m73.6/73.6 kB\u001b[0m \u001b[31m4.7 MB/s\u001b[0m eta \u001b[36m0:00:00\u001b[0m\n",
            "\u001b[?25h"
          ]
        }
      ],
      "source": [
        "!pip install openai -q\n",
        "!pip install yFinance -q\n",
        "import openai\n",
        "openai.api_key = \"\" #replace with api key"
      ]
    },
    {
      "cell_type": "markdown",
      "source": [
        "Just run this single code block to start querying"
      ],
      "metadata": {
        "id": "t03ByfagcPJ5"
      }
    },
    {
      "cell_type": "code",
      "source": [
        "import datetime\n",
        "from datetime import date\n",
        "import json\n",
        "import logging\n",
        "import operator\n",
        "import sys\n",
        "\n",
        "import openai\n",
        "import yfinance as yf\n",
        "\n",
        "logging.basicConfig(level=logging.WARNING, format=\"%(asctime)s %(message)s\")\n",
        "date_today = date.today()\n",
        "\n",
        "logger = logging.getLogger(__name__)\n",
        "logger.setLevel(logging.INFO)\n",
        "\n",
        "\n",
        "def get_price(symbol: str, date: str) -> float:\n",
        "    logger.info(f\"Calling get_price with {symbol=} and {date=}\")\n",
        "\n",
        "    history = yf.download(\n",
        "        symbol, start=date, period=\"1d\", interval=\"1d\", progress=False\n",
        "    )\n",
        "\n",
        "    return history[\"Close\"].iloc[0].item()\n",
        "\n",
        "def calculate(a: float, b: float, op: str) -> float:\n",
        "    logger.info(f\"Calling calculate with {a=}, {b=} and {op=}\")\n",
        "\n",
        "    return getattr(operator, op)(a, b)\n",
        "\n",
        "\n",
        "get_price_metadata = {\n",
        "    \"name\": \"get_price\",\n",
        "    \"description\": \"Get closing price of a financial instrument on a given date\",\n",
        "    \"parameters\": {\n",
        "        \"type\": \"object\",\n",
        "        \"properties\": {\n",
        "            \"symbol\": {\n",
        "                \"type\": \"string\",\n",
        "                \"description\": \"Ticker symbol of a financial instrument\",\n",
        "            },\n",
        "            \"date\": {\n",
        "                \"type\": \"string\",\n",
        "                \"description\": \"Date in the format YYYY-MM-DD\",\n",
        "            },\n",
        "\n",
        "        },\n",
        "        \"required\": [\"symbol\", \"date\"],\n",
        "    },\n",
        "}\n",
        "\n",
        "calculate_metadata = {\n",
        "    \"name\": \"calculate\",\n",
        "    \"description\": \"General purpose calculator\",\n",
        "    \"parameters\": {\n",
        "        \"type\": \"object\",\n",
        "        \"properties\": {\n",
        "            \"a\": {\n",
        "                \"type\": \"number\",\n",
        "                \"description\": \"First entry\",\n",
        "            },\n",
        "            \"b\": {\n",
        "                \"type\": \"number\",\n",
        "                \"description\": \"Second entry\",\n",
        "            },\n",
        "            \"op\": {\n",
        "                \"type\": \"string\",\n",
        "                \"enum\": [\"mul\", \"add\", \"truediv\", \"sub\"],\n",
        "                \"description\": \"Binary operation\",\n",
        "            },\n",
        "\n",
        "        },\n",
        "        \"required\": [\"a\", \"b\", \"op\"],\n",
        "    },\n",
        "}\n",
        "\n",
        "messages = [{\"role\": \"user\", \"content\": input()},\n",
        "\n",
        "            {\"role\": \"system\", \"content\": f\"You are an helpfful financial investor who overlooks the performace of stocks. Today is {date_today} .For Indian stocks add the suffix .NS to them. /nExample: Zomato's ticker will be ZOMATO.NS and for all the other companies it will just be their ticker symbol. /nExample: Apple's ticker symbol will still be APPL, there is no need to .NS as suffix for such companies that are based outside of India\"}]\n",
        "\n",
        "while True:\n",
        "    response = openai.ChatCompletion.create(\n",
        "        model=\"gpt-3.5-turbo-0613\",\n",
        "        temperature=0,\n",
        "        messages=messages,\n",
        "        functions=[get_price_metadata, calculate_metadata],\n",
        "    )\n",
        "    message = response[\"choices\"][0][\"message\"]\n",
        "    messages.append(message)\n",
        "\n",
        "    if \"function_call\" not in message:\n",
        "        break\n",
        "\n",
        "    # call custom functions\n",
        "    function_name = message[\"function_call\"][\"name\"]\n",
        "    kwargs = json.loads(message[\"function_call\"][\"arguments\"])\n",
        "\n",
        "    if function_name == \"get_price\":\n",
        "        output = str(get_price(**kwargs))\n",
        "    elif function_name == \"calculate\":\n",
        "        output = str(calculate(**kwargs))\n",
        "    else:\n",
        "        raise ValueError\n",
        "\n",
        "    messages.append(\n",
        "        {\"role\": \"function\", \"name\": function_name, \"content\": output}\n",
        "    )\n",
        "\n",
        "\n",
        "print(messages[-1][\"content\"])\n"
      ],
      "metadata": {
        "colab": {
          "base_uri": "https://localhost:8080/"
        },
        "id": "EmR5oOqMQTwk",
        "outputId": "826f7266-28a2-4bcc-fc1f-1e89c57cb524"
      },
      "execution_count": null,
      "outputs": [
        {
          "name": "stdout",
          "output_type": "stream",
          "text": [
            "Zomato\n"
          ]
        },
        {
          "output_type": "stream",
          "name": "stderr",
          "text": [
            "INFO:__main__:Calling get_price with symbol='ZOMATO.NS' and date='2023-07-07'\n"
          ]
        },
        {
          "output_type": "stream",
          "name": "stdout",
          "text": [
            "The closing price of Zomato (ZOMATO.NS) on July 7, 2023, was ₹73.25.\n"
          ]
        }
      ]
    },
    {
      "cell_type": "code",
      "source": [],
      "metadata": {
        "id": "31VpKFxkDpIp"
      },
      "execution_count": null,
      "outputs": []
    }
  ]
}