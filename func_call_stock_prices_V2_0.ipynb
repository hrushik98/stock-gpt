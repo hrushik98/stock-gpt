{
  "nbformat": 4,
  "nbformat_minor": 0,
  "metadata": {
    "colab": {
      "provenance": []
    },
    "kernelspec": {
      "name": "python3",
      "display_name": "Python 3"
    },
    "language_info": {
      "name": "python"
    }
  },
  "cells": [
    {
      "cell_type": "code",
      "source": [
        "!pip install wget -q\n",
        "!pip install openai -q\n",
        "!pip install yFinance -q\n",
        "\n",
        "import pandas as pd\n",
        "import wget\n",
        "import openai\n",
        "import os\n",
        "openai.api_key = \"\" #replace with api key\n",
        "\n",
        "#download the ticker database\n",
        "\n",
        "url = \"https://drive.google.com/uc?export=download&id=1BW-te6Qi6UBCobrVeBprW7jffLvNdkcf\"\n",
        "output_file = \"tickers.csv\"\n",
        "wget.download(url, out=output_file)\n",
        "tickers = pd.read_csv(\"/content/tickers.csv\")"
      ],
      "metadata": {
        "id": "YZFle0XYX7G4"
      },
      "execution_count": 8,
      "outputs": []
    },
    {
      "cell_type": "code",
      "source": [
        "import datetime\n",
        "from datetime import date\n",
        "import json\n",
        "import logging\n",
        "import operator\n",
        "import sys\n",
        "import openai\n",
        "import yfinance as yf\n",
        "import re\n",
        "\n",
        "logging.basicConfig(level=logging.WARNING, format=\"%(asctime)s %(message)s\")\n",
        "\n",
        "logger = logging.getLogger(__name__)\n",
        "logger.setLevel(logging.INFO)\n",
        "\n",
        "def get_price(symbol: str, date: str) -> float:\n",
        "    logger.info(f\"Calling get_price with symbol={symbol} and date={date}\")\n",
        "\n",
        "    history = yf.download(symbol, start=date, period=\"1d\", interval=\"1d\", progress=False)\n",
        "\n",
        "    return history[\"Close\"].iloc[0].item()\n",
        "\n",
        "def calculate(a: float, b: float, op: str) -> float:\n",
        "    logger.info(f\"Calling calculate with a={a}, b={b}, and op={op}\")\n",
        "\n",
        "    return getattr(operator, op)(a, b)\n",
        "\n",
        "def ask(user_query: str):\n",
        "    date_today = date.today()\n",
        "    get_price_metadata = {\n",
        "        \"name\": \"get_price\",\n",
        "        \"description\": \"Get closing price of a financial instrument on a given date\",\n",
        "        \"parameters\": {\n",
        "            \"type\": \"object\",\n",
        "            \"properties\": {\n",
        "                \"symbol\": {\n",
        "                    \"type\": \"string\",\n",
        "                    \"description\": \"Ticker symbol of a financial instrument\",\n",
        "                },\n",
        "                \"date\": {\n",
        "                    \"type\": \"string\",\n",
        "                    \"description\": \"Date in the format YYYY-MM-DD\",\n",
        "                },\n",
        "            },\n",
        "            \"required\": [\"symbol\", \"date\"],\n",
        "        },\n",
        "    }\n",
        "\n",
        "    calculate_metadata = {\n",
        "        \"name\": \"calculate\",\n",
        "        \"description\": \"General purpose calculator\",\n",
        "        \"parameters\": {\n",
        "            \"type\": \"object\",\n",
        "            \"properties\": {\n",
        "                \"a\": {\n",
        "                    \"type\": \"number\",\n",
        "                    \"description\": \"First entry\",\n",
        "                },\n",
        "                \"b\": {\n",
        "                    \"type\": \"number\",\n",
        "                    \"description\": \"Second entry\",\n",
        "                },\n",
        "                \"op\": {\n",
        "                    \"type\": \"string\",\n",
        "                    \"enum\": [\"mul\", \"add\", \"truediv\", \"sub\"],\n",
        "                    \"description\": \"Binary operation\",\n",
        "                },\n",
        "            },\n",
        "            \"required\": [\"a\", \"b\", \"op\"],\n",
        "        },\n",
        "    }\n",
        "\n",
        "    system_content = \"You are a helpful financial assistant who looks over the performance of stocks. You have to extract the company from the user_request.\"\n",
        "    user_content = f\"user_request: {user_query}\\nCompany_name: \"\n",
        "    m1 = [\n",
        "        {\"role\": \"system\", \"content\": f\"{system_content}\"},\n",
        "        {\"role\": \"user\", \"content\": f\"{user_content}\"}\n",
        "    ]\n",
        "    result = openai.ChatCompletion.create(\n",
        "        model=\"gpt-3.5-turbo\",\n",
        "        max_tokens=20,\n",
        "        temperature=0.8,\n",
        "        messages=m1\n",
        "    )\n",
        "    response = result[\"choices\"][0][\"message\"][\"content\"]\n",
        "    print(\"Company Name: \" ,response)\n",
        "\n",
        "    company_name = response.lower()\n",
        "    lst = []\n",
        "    tickers = pd.read_csv(\"tickers.csv\")\n",
        "    for i in range(0, len(tickers)):\n",
        "      if str(company_name) in (tickers['Company Name'][i]):\n",
        "        print(\"Ticker: \",str(tickers['Symbol'][i]))\n",
        "        lst.append(str(tickers['Symbol'][i]))\n",
        "        break\n",
        "    ticker_symbol = lst[0]\n",
        "    messages = [\n",
        "        {\"role\": \"user\", \"content\": f\"{user_query}\\nTicker token: {ticker_symbol} \\nToday date: {date_today}\"},\n",
        "        {\"role\": \"system\", \"content\": f\"You are a helpful financial investor who overlooks the performance of stocks. Today is {date_today}. Also note that the format of the date is YYYY/MM/DD\"}\n",
        "    ]\n",
        "\n",
        "    while True:\n",
        "        response = openai.ChatCompletion.create(\n",
        "            model=\"gpt-3.5-turbo-0613\",\n",
        "            temperature=0,\n",
        "            messages=messages,\n",
        "            functions=[get_price_metadata, calculate_metadata]\n",
        "        )\n",
        "        message = response[\"choices\"][0][\"message\"]\n",
        "        messages.append(message)\n",
        "\n",
        "        if \"function_call\" not in message:\n",
        "            break\n",
        "\n",
        "        # Call custom functions\n",
        "        function_name = message[\"function_call\"][\"name\"]\n",
        "        kwargs = json.loads(message[\"function_call\"][\"arguments\"])\n",
        "\n",
        "        if function_name == \"get_price\":\n",
        "            output = str(get_price(**kwargs))\n",
        "        elif function_name == \"calculate\":\n",
        "            output = str(calculate(**kwargs))\n",
        "        else:\n",
        "            raise ValueError\n",
        "\n",
        "        messages.append({\"role\": \"function\", \"name\": function_name, \"content\": output})\n",
        "\n",
        "    print(messages[-1][\"content\"])\n",
        "\n"
      ],
      "metadata": {
        "id": "D_7obV4V3piz"
      },
      "execution_count": 9,
      "outputs": []
    },
    {
      "cell_type": "markdown",
      "source": [
        "#Just run this single code block to start querying"
      ],
      "metadata": {
        "id": "t03ByfagcPJ5"
      }
    },
    {
      "cell_type": "code",
      "source": [
        "ask(\"How much more is tata price today as compared to 10 years back\")"
      ],
      "metadata": {
        "colab": {
          "base_uri": "https://localhost:8080/"
        },
        "id": "bnEK1a7fde5X",
        "outputId": "55337b04-d9df-4e22-b0a1-bdcdb895ef6f"
      },
      "execution_count": 10,
      "outputs": [
        {
          "output_type": "stream",
          "name": "stdout",
          "text": [
            "Company Name:  tata\n",
            "Ticker:  TCS.NS\n"
          ]
        },
        {
          "output_type": "stream",
          "name": "stderr",
          "text": [
            "INFO:__main__:Calling get_price with symbol=TCS.NS and date=2013-07-08\n",
            "INFO:__main__:Calling get_price with symbol=TCS.NS and date=2023-07-08\n",
            "INFO:__main__:Calling calculate with a=3329.25, b=753.3250122070312, and op=sub\n"
          ]
        },
        {
          "output_type": "stream",
          "name": "stdout",
          "text": [
            "The price of Tata stock today (2023-07-08) is 3329.25. \n",
            "\n",
            "Compared to 10 years ago (2013-07-08), the price was 753.33. \n",
            "\n",
            "Therefore, the price of Tata stock today is approximately 2575.92 more than it was 10 years ago.\n"
          ]
        }
      ]
    },
    {
      "cell_type": "code",
      "source": [
        "ask(\"If I had bought 100 rupees worth of Tata Motors stock in 2012, how much would it be worth today?\")"
      ],
      "metadata": {
        "colab": {
          "base_uri": "https://localhost:8080/"
        },
        "id": "AhW-F7CGjpdy",
        "outputId": "40da4175-cdb6-4bfd-e918-92b85d03dd83"
      },
      "execution_count": 11,
      "outputs": [
        {
          "output_type": "stream",
          "name": "stdout",
          "text": [
            "Company Name:  Tata Motors\n",
            "Ticker:  TATAMOTORS.NS\n"
          ]
        },
        {
          "output_type": "stream",
          "name": "stderr",
          "text": [
            "INFO:__main__:Calling get_price with symbol=TATAMOTORS.NS and date=2012-01-01\n",
            "INFO:__main__:Calling get_price with symbol=TATAMOTORS.NS and date=2023-07-08\n",
            "INFO:__main__:Calling calculate with a=618.2000122070312, b=181.99789428710938, and op=truediv\n",
            "INFO:__main__:Calling calculate with a=100, b=3.396742663581561, and op=mul\n"
          ]
        },
        {
          "output_type": "stream",
          "name": "stdout",
          "text": [
            "If you had bought 100 rupees worth of Tata Motors stock in 2012, it would be worth approximately 339.67 rupees today.\n"
          ]
        }
      ]
    },
    {
      "cell_type": "code",
      "source": [
        "ask(\"ICICI bank share price today as compared to 10 years ago\")"
      ],
      "metadata": {
        "colab": {
          "base_uri": "https://localhost:8080/"
        },
        "id": "oYaSWMFBlhO_",
        "outputId": "ff2b08f4-9f41-4547-c993-15a27d1958ef"
      },
      "execution_count": 12,
      "outputs": [
        {
          "output_type": "stream",
          "name": "stdout",
          "text": [
            "Company Name:  ICICI bank\n",
            "Ticker:  ICICIBANK.NS\n"
          ]
        },
        {
          "output_type": "stream",
          "name": "stderr",
          "text": [
            "INFO:__main__:Calling get_price with symbol=ICICIBANK.NS and date=2023-07-08\n",
            "INFO:__main__:Calling get_price with symbol=ICICIBANK.NS and date=2013-07-08\n",
            "INFO:__main__:Calling calculate with a=946.4000244140625, b=186.89999389648438, and op=sub\n"
          ]
        },
        {
          "output_type": "stream",
          "name": "stdout",
          "text": [
            "The ICICI Bank share price today is 946.40 INR compared to 10 years ago, which was 186.90 INR. Therefore, the share price has increased by 759.50 INR over the past 10 years.\n"
          ]
        }
      ]
    },
    {
      "cell_type": "code",
      "source": [
        "ask(\"what is apple share price today\")"
      ],
      "metadata": {
        "colab": {
          "base_uri": "https://localhost:8080/"
        },
        "id": "FtzePGLAlqbn",
        "outputId": "821f7770-f8c9-4da0-a449-c5e0253e0c7f"
      },
      "execution_count": 13,
      "outputs": [
        {
          "output_type": "stream",
          "name": "stdout",
          "text": [
            "Company Name:  Apple\n",
            "Ticker:  AAPL\n"
          ]
        },
        {
          "output_type": "stream",
          "name": "stderr",
          "text": [
            "INFO:__main__:Calling get_price with symbol=AAPL and date=2023-07-08\n"
          ]
        },
        {
          "output_type": "stream",
          "name": "stdout",
          "text": [
            "The share price of Apple (AAPL) today is $190.68.\n"
          ]
        }
      ]
    },
    {
      "cell_type": "code",
      "source": [
        "ask(\"what is Alphabet share price today\")"
      ],
      "metadata": {
        "colab": {
          "base_uri": "https://localhost:8080/"
        },
        "id": "WCFF_CMrmD6h",
        "outputId": "5d764de1-093d-45c1-c4b9-1f51a89556ee"
      },
      "execution_count": 14,
      "outputs": [
        {
          "output_type": "stream",
          "name": "stdout",
          "text": [
            "Company Name:  Alphabet\n",
            "Ticker:  GOOGL\n"
          ]
        },
        {
          "output_type": "stream",
          "name": "stderr",
          "text": [
            "INFO:__main__:Calling get_price with symbol=GOOGL and date=2023-07-08\n"
          ]
        },
        {
          "output_type": "stream",
          "name": "stdout",
          "text": [
            "The share price of Alphabet (GOOGL) today is $119.48.\n"
          ]
        }
      ]
    },
    {
      "cell_type": "code",
      "source": [
        "ask(\"what is microsoft share price today\")"
      ],
      "metadata": {
        "colab": {
          "base_uri": "https://localhost:8080/"
        },
        "id": "r6IXrDGMmqj9",
        "outputId": "69fdc565-99c3-47ee-d801-7648def0edfb"
      },
      "execution_count": 15,
      "outputs": [
        {
          "output_type": "stream",
          "name": "stdout",
          "text": [
            "Company Name:  Microsoft\n",
            "Ticker:  MSFT\n"
          ]
        },
        {
          "output_type": "stream",
          "name": "stderr",
          "text": [
            "INFO:__main__:Calling get_price with symbol=MSFT and date=2023-07-08\n"
          ]
        },
        {
          "output_type": "stream",
          "name": "stdout",
          "text": [
            "The share price of Microsoft (MSFT) today is $337.22.\n"
          ]
        }
      ]
    },
    {
      "cell_type": "code",
      "source": [],
      "metadata": {
        "id": "7l52tu3Wm5By"
      },
      "execution_count": 15,
      "outputs": []
    }
  ]
}